{
 "cells": [
  {
   "cell_type": "code",
   "execution_count": null,
   "id": "67739cdd",
   "metadata": {},
   "outputs": [],
   "source": [
    "import pandas as pd  # used to read the csv file\n",
    "import difflib  # provides functions for comparing sequences\n",
    "\n",
    "# Load the dataset\n",
    "df = pd.read_csv('C:/Users/arosh/Downloads/archive/recipes.csv.csv')  #  loads the CSV file into a DataFrame\n",
    "\n",
    "# Get user input for available ingredients\n",
    "user_input = input(\"Enter the ingredients you have (comma-separated): \")\n",
    "user_ingredients = [ingredient.strip().lower() for ingredient in user_input.split(\",\")]\n",
    "\n",
    "matching_recipes = []\n",
    "\n",
    "for index, row in df.iterrows():   \n",
    "    recipe_name = row['TranslatedRecipeName']   # loop iterates through each row in the DataFrame, extracting the recipe name and ingredients string\n",
    "    ingredients_str = row['TranslatedIngredients']   \n",
    "\n",
    "    if isinstance(ingredients_str, str):  # checks if the ingredients string is a valid string \n",
    "        recipe_ingredients = [ingredient.strip().lower() for ingredient in ingredients_str.split(',')]  # splits the ingredients string into a list of ingredients, converting each ingredient to lowercase and stripping spaces\n",
    "\n",
    "        # Find ingredients that are close matches to user input\n",
    "        matching_ingredients = [difflib.get_close_matches(user_ing, recipe_ingredients) for user_ing in user_ingredients]\n",
    "        \n",
    "        # Check if all user ingredients have a close match in the recipe's ingredients\n",
    "        if all(matching for matching in matching_ingredients):\n",
    "            matching_recipes.append(recipe_name)\n",
    "\n",
    "# Display the suggested recipes\n",
    "if matching_recipes:\n",
    "    print(\"\\nYou can make the following recipes :D :\")\n",
    "    for recipe in matching_recipes:\n",
    "        print(\"- \" + recipe)\n",
    "else:\n",
    "    print(\"\\nSorry, you have nothing to make :(\")"
   ]
  },
  {
   "cell_type": "code",
   "execution_count": null,
   "id": "8ae9aa19",
   "metadata": {},
   "outputs": [],
   "source": []
  }
 ],
 "metadata": {
  "kernelspec": {
   "display_name": "Python 3 (ipykernel)",
   "language": "python",
   "name": "python3"
  },
  "language_info": {
   "codemirror_mode": {
    "name": "ipython",
    "version": 3
   },
   "file_extension": ".py",
   "mimetype": "text/x-python",
   "name": "python",
   "nbconvert_exporter": "python",
   "pygments_lexer": "ipython3",
   "version": "3.11.4"
  }
 },
 "nbformat": 4,
 "nbformat_minor": 5
}
