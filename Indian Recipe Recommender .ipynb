{
 "cells": [
  {
   "cell_type": "code",
   "execution_count": null,
   "id": "7699b69c",
   "metadata": {},
   "outputs": [],
   "source": [
    "import pandas as pd # used to read the csv file\n",
    "import difflib # provides functions for comparing sequences\n",
    "\n",
    "# Load the dataset\n",
    "df = pd.read_csv('C:/Users/arosh/Downloads/archive/recipes.csv.csv')\n",
    "\n",
    "# Get user input for available ingredients\n",
    "user_input = input(\"Enter the ingredients you have (comma-separated): \")\n",
    "user_ingredients = [ingredient.strip().lower() for ingredient in user_input.split(\",\")]\n",
    "\n",
    "matching_recipes = []\n",
    "\n",
    "for index, row in df.iterrows():\n",
    "    recipe_name = row['TranslatedRecipeName']\n",
    "    ingredients_str = row['TranslatedIngredients']\n",
    "    recipe_instructions = row['Instructions']  # Add each of the columns \n",
    "\n",
    "    if isinstance(ingredients_str, str):\n",
    "        recipe_ingredients = [ingredient.strip().lower() for ingredient in ingredients_str.split(',')]\n",
    "        matching_ingredients = [difflib.get_close_matches(user_ing, recipe_ingredients) for user_ing in user_ingredients] #  to find ingredients that are close matches to the user's input\n",
    "\n",
    "        if all(matching for matching in matching_ingredients):\n",
    "            matching_recipes.append((recipe_name, recipe_ingredients, recipe_instructions)) # If all user ingredients have at least one close match in the recipe's ingredients, we append a tuple\n",
    "\n",
    "if matching_recipes:\n",
    "    print(\"\\nYou can make the following recipes :D :\")\n",
    "    for index, (recipe, _, _) in enumerate(matching_recipes, start=1):\n",
    "        print(f\"{index}. {recipe}\")\n",
    "\n",
    "    recipe_choice = int(input(\"\\nEnter the number of the recipe you want to view: \"))\n",
    "\n",
    "    if 1 <= recipe_choice <= len(matching_recipes):\n",
    "        selected_recipe = matching_recipes[recipe_choice - 1]\n",
    "        print(\"\\nRecipe:\", selected_recipe[0])\n",
    "        print(\"Ingredients Needed:\", \", \".join(selected_recipe[1]))\n",
    "        print(\"Instructions:\", selected_recipe[2])\n",
    "    else:\n",
    "        print(\"Invalid recipe choice.\")\n",
    "else:\n",
    "    print(\"\\nSorry, no matching recipes found :( .\")"
   ]
  },
  {
   "cell_type": "code",
   "execution_count": null,
   "id": "d9813441",
   "metadata": {},
   "outputs": [],
   "source": []
  }
 ],
 "metadata": {
  "kernelspec": {
   "display_name": "Python 3 (ipykernel)",
   "language": "python",
   "name": "python3"
  },
  "language_info": {
   "codemirror_mode": {
    "name": "ipython",
    "version": 3
   },
   "file_extension": ".py",
   "mimetype": "text/x-python",
   "name": "python",
   "nbconvert_exporter": "python",
   "pygments_lexer": "ipython3",
   "version": "3.11.4"
  }
 },
 "nbformat": 4,
 "nbformat_minor": 5
}
